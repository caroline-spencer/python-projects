{
 "cells": [
  {
   "cell_type": "code",
   "execution_count": 36,
   "metadata": {},
   "outputs": [],
   "source": [
    "import pandas as pd"
   ]
  },
  {
   "cell_type": "code",
   "execution_count": 50,
   "metadata": {},
   "outputs": [],
   "source": [
    "# Project: Retention and Reengagement of Registered Nurses (RNs) in North Carolina using RN License Data Sets from Health Professions Data System (HPDS)\n",
    "\n",
    "# Goal: Track RNs who had active license in 2020 over time from 2020 to 2023 to determine which RNs were \n",
    "#   retained in the workforce, left the workforce, or left and returned (reengaged) to the workforce\n",
    "\n",
    "# Step 1: Create data frames from RN license csv file data sets for each year (SQL query outputs)\n",
    "# 2020 data frame includes only RNs who were active in 2020\n",
    "df_2020 = pd.read_csv(\"query output data 2020 active.csv\")\n",
    "df_2021 = pd.read_csv(\"query output data 2021.csv\")\n",
    "df_2022 = pd.read_csv(\"query output data 2022.csv\")\n",
    "df_2023 = pd.read_csv(\"query output data 2023.csv\")"
   ]
  },
  {
   "cell_type": "code",
   "execution_count": 51,
   "metadata": {},
   "outputs": [],
   "source": [
    "# Step 2: Merge data frames on unique person id variable, left merge so all person ids in merged data are in 2020 active data\n",
    "df_2020_21 = df_2020.merge(df_2021, how='left', on='person_id')\n",
    "df_2020_22 = df_2020_21.merge(df_2022, how='left', on='person_id')\n",
    "df_2020_23 = df_2020_22.merge(df_2023, how='left', on='person_id')"
   ]
  },
  {
   "cell_type": "code",
   "execution_count": 52,
   "metadata": {},
   "outputs": [],
   "source": [
    "# Step 3: Drop unnecessary variables\n",
    "df_2020_23.drop(['year_2023', 'year_2022', 'year_2021', 'year_2020'], axis=1, inplace=True)"
   ]
  },
  {
   "cell_type": "code",
   "execution_count": 53,
   "metadata": {},
   "outputs": [],
   "source": [
    "# Step 4: Create data frame of each different retention/reengagement/exit scenario using active in state boolean variable\n",
    "#   where 1 = active and 0 = inactive\n",
    "df_retained = df_2020_23.query('active_in_state_bool_2021==1 and active_in_state_bool_2022==1 and active_in_state_bool_2023==1', inplace=False)\n",
    "df_left2021 = df_2020_23.query('active_in_state_bool_2021==0 and active_in_state_bool_2022==0 and active_in_state_bool_2023==0', inplace=False)\n",
    "df_left2022 = df_2020_23.query('active_in_state_bool_2021==1 and active_in_state_bool_2022==0 and active_in_state_bool_2023==0', inplace=False)\n",
    "df_left2023 = df_2020_23.query('active_in_state_bool_2021==1 and active_in_state_bool_2022==1 and active_in_state_bool_2023==0', inplace=False)\n",
    "df_left21_ret2022 = df_2020_23.query('active_in_state_bool_2021==0 and active_in_state_bool_2022==1 and active_in_state_bool_2023==1', inplace=False)\n",
    "df_left21_ret2023 = df_2020_23.query('active_in_state_bool_2021==0 and active_in_state_bool_2022==0 and active_in_state_bool_2023==1', inplace=False)\n",
    "df_left22_ret2023 = df_2020_23.query('active_in_state_bool_2021==1 and active_in_state_bool_2022==0 and active_in_state_bool_2023==1', inplace=False)\n",
    "df_left21_ret22_left2023 = df_2020_23.query('active_in_state_bool_2021==0 and active_in_state_bool_2022==1 and active_in_state_bool_2023==0', inplace=False)\n"
   ]
  },
  {
   "cell_type": "code",
   "execution_count": 54,
   "metadata": {},
   "outputs": [],
   "source": [
    "# Step 5: Account for null data\n",
    "df_hasnull = df_2020_23.query('(active_in_state_bool_2021 != 1 and active_in_state_bool_2021 != 0) or (active_in_state_bool_2022 != 1 and active_in_state_bool_2022 != 0) or (active_in_state_bool_2023 != 1 and active_in_state_bool_2023 != 0)', inplace=False)\n",
    "df_nullafter2020 = df_hasnull.query('active_in_state_bool_2021 !=1 and active_in_state_bool_2021 !=0', inplace=False)\n",
    "df_nullafter2021 = df_hasnull.query('(active_in_state_bool_2021 == 1 or active_in_state_bool_2021 == 0) and active_in_state_bool_2022 != 1 and active_in_state_bool_2022 != 0', inplace=False)\n",
    "df_nullafter2022 = df_hasnull.query('(active_in_state_bool_2021 == 1 or active_in_state_bool_2021 == 0) and (active_in_state_bool_2022 == 1 or active_in_state_bool_2022 == 0) and active_in_state_bool_2023 != 1 and active_in_state_bool_2023 != 0', inplace=False)"
   ]
  },
  {
   "cell_type": "code",
   "execution_count": 55,
   "metadata": {},
   "outputs": [
    {
     "name": "stdout",
     "output_type": "stream",
     "text": [
      "Of the RNs in NC who were active in 2020:\n",
      "86510 RNs were retained in the workforce from 2020 to 2023\n",
      "5989 RNs left the workforce in 2021\n",
      "7244 RNs left the workforce in 2022\n",
      "1582 RNs left the workforce in 2021 and returned in 2022\n",
      "1584 RNs left the workforce in 2021 and returned in 2023\n",
      "592 RNs left the workforce in 2021, returned in 2022, then left again in 2023\n"
     ]
    }
   ],
   "source": [
    "# Step 6: Count RNs in different retention/reengagement groups\n",
    "print('Of the RNs in NC who were active in 2020:')\n",
    "print(df_retained['person_id'].count(), 'RNs were retained in the workforce from 2020 to 2023')\n",
    "print(df_left2021['person_id'].count(), 'RNs left the workforce in 2021')\n",
    "print(df_left2022['person_id'].count(), 'RNs left the workforce in 2022')\n",
    "print(df_left21_ret2022['person_id'].count(), 'RNs left the workforce in 2021 and returned in 2022')\n",
    "print(df_left21_ret2023['person_id'].count(), 'RNs left the workforce in 2021 and returned in 2023')\n",
    "print(df_left21_ret22_left2023['person_id'].count(), 'RNs left the workforce in 2021, returned in 2022, then left again in 2023')"
   ]
  },
  {
   "cell_type": "code",
   "execution_count": 47,
   "metadata": {},
   "outputs": [
    {
     "name": "stdout",
     "output_type": "stream",
     "text": [
      "Average age in 2020 of\n",
      "RNs who were retained from 2020 to 2023: 44.06654721997457\n",
      "RNs who left the workforce in 2021: 45.58974787109701\n",
      "RNs who left the workforce in 2022: 43.83227498619547\n",
      "RNs who left the workforce in 2021 and returned in 2022 52.917193426042985\n",
      "RNs who left the workforce in 2021 and returned in 2023 42.537247474747474\n",
      "RNs who left the workforce in 2021, returned in 2022, then left again in 2023 58.027027027027025\n"
     ]
    }
   ],
   "source": [
    "# Step 7: Analyze by comparing characteristics of different groups (example: age)\n",
    "print('Average age in 2020 of')\n",
    "print('RNs who were retained from 2020 to 2023:', df_retained['age_2020'].mean())\n",
    "print('RNs who left the workforce in 2021:', df_left2021['age_2020'].mean())\n",
    "print('RNs who left the workforce in 2022:', df_left2022['age_2020'].mean())\n",
    "print('RNs who left the workforce in 2021 and returned in 2022', df_left21_ret2022['age_2020'].mean())\n",
    "print('RNs who left the workforce in 2021 and returned in 2023', df_left21_ret2023['age_2020'].mean())\n",
    "print('RNs who left the workforce in 2021, returned in 2022, then left again in 2023', df_left21_ret22_left2023['age_2020'].mean())"
   ]
  }
 ],
 "metadata": {
  "kernelspec": {
   "display_name": "Python 3",
   "language": "python",
   "name": "python3"
  },
  "language_info": {
   "codemirror_mode": {
    "name": "ipython",
    "version": 3
   },
   "file_extension": ".py",
   "mimetype": "text/x-python",
   "name": "python",
   "nbconvert_exporter": "python",
   "pygments_lexer": "ipython3",
   "version": "3.12.2"
  }
 },
 "nbformat": 4,
 "nbformat_minor": 2
}
